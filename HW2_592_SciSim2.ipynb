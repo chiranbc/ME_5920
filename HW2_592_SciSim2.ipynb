# -*- coding: utf-8 -*-
"""
Created on Wed Mar 12 18:56:51 2025

@author: chira
"""

import numpy as np
import os
from pathlib import Path
import matplotlib.pyplot as plt
from sklearn.manifold import TSNE

# ============================================================
# 1. Data Loading Functions
# ============================================================

def load_input_geometry(folder_path):
    master_dir = Path(folder_path)
    input_geometry = {}
    for i in range(1, 65):
        run_dir = f"run{i}"
        run_path = master_dir / run_dir
        file_contents = []
        for j in range(1, 4):
            file_name = f"smesh.1.{j}.txt"
            file_path = run_path / file_name
            with open(file_path, 'r') as file:
                lines = file.readlines()
                # Read lines 6 to 209 (0-indexed: lines[5:209]), split into columns,
                # remove the last column, and reshape to (17, 12, 3)
                content = np.array([line.strip().split() for line in lines[5:209]], dtype=float)[:, :-1].reshape(17, 12, 3)
                file_contents.append(content)
        input_geometry[run_dir] = np.array(file_contents)  # shape: (3, 17, 12, 3)
    return input_geometry

def load_final_geometry(parent_folder):
    final_dir = Path(parent_folder) / "final_geometry"
    timesteps = [80, 140]
    pressures = ["p1", "p2", "p3"]
    temperatures = ["t1", "t2", "t3", "t4", "t5"]
    final_geometry = {}
    for i in range(1, 65):
        run_files = {}
        for timestep in timesteps:
            for pressure in pressures:
                for temperature in temperatures:
                    file_name = f"result_{timestep}_{temperature}_{pressure}_{i}"
                    file_path = final_dir / file_name
                    if file_path.exists():
                        with open(file_path, 'r') as file:
                            lines = file.readlines()
                            content = np.array([line.strip().split() for line in lines[1:]], dtype=float)
                            # Split content into three parts and reshape each into (17, 12, 3)
                            reshaped_content = np.stack([arr.reshape(17, 12, 3) for arr in np.split(content, 3)])
                            label = f"{timestep}_{temperature}_{pressure}"
                            run_files[label] = reshaped_content  # shape: (3, 17, 12, 3)
        run_label = f"run{i}"
        final_geometry[run_label] = run_files
    return final_geometry

def create_ordered_pairs(input_geom, output_geom):
    keys = list(input_geom.keys())
    ts80_ordered_pairs = {}
    ts140_ordered_pairs = {}
    for key in keys:
        input_geometry = input_geom[key]
        output_geometries = output_geom[key]
        output_keys = list(output_geometries.keys())
        ts80_run_subdict = {}
        ts140_run_subdict = {}
        for output_key in output_keys:
            if output_key.startswith('80'):
                # Expected format: "80_tX_pY"
                ts = output_key[0:2]
                temp = output_key[3:5]
                pressure = output_key[6:8]
                ts80_run_subdict[output_key] = (input_geometry, temp, pressure, output_geometries[output_key])
            elif output_key.startswith('140'):
                # Expected format: "140_tX_pY"
                ts = output_key[0:3]
                temp = output_key[4:6]
                pressure = output_key[7:9]
                ts140_run_subdict[output_key] = (input_geometry, temp, pressure, output_geometries[output_key])
        ts80_ordered_pairs[key] = ts80_run_subdict
        ts140_ordered_pairs[key] = ts140_run_subdict
    return ts80_ordered_pairs, ts140_ordered_pairs

# ============================================================
# 2. PCA Whitening Functions
# ============================================================

def pca_whitening(X, epsilon=1e-5):
    """
    Apply PCA whitening to data X (each row is a sample).
    Returns the whitened data and a dict of PCA parameters.
    """
    X_mean = np.mean(X, axis=0)
    X_centered = X - X_mean
    cov = np.cov(X_centered, rowvar=False)
    eigenvalues, eigenvectors = np.linalg.eigh(cov)
    idx = np.argsort(eigenvalues)[::-1]
    eigenvalues, eigenvectors = eigenvalues[idx], eigenvectors[:, idx]
    whitening_matrix = eigenvectors @ np.diag(1.0 / np.sqrt(eigenvalues + epsilon))
    X_whitened = X_centered @ whitening_matrix
    params = {'mean': X_mean, 'matrix': whitening_matrix}
    return X_whitened, params

def whiten_image(img, epsilon=1e-5):
    """
    Whiten a single image using PCA whitening.
    Parameters:
        img (np.ndarray): Image of shape (H, W, 3)
    Returns:
        whitened (np.ndarray): Whitened image, same shape as img.
        params (dict): PCA parameters used.
    """
    H, W, C = img.shape  # Expect C == 3
    X = img.reshape(-1, C)
    X_mean = np.mean(X, axis=0)
    X_centered = X - X_mean
    cov = np.cov(X_centered, rowvar=False)
    eigenvalues, eigenvectors = np.linalg.eigh(cov)
    idx = np.argsort(eigenvalues)[::-1]
    eigenvalues, eigenvectors = eigenvalues[idx], eigenvectors[:, idx]
    whitening_matrix = eigenvectors @ np.diag(1.0 / np.sqrt(eigenvalues + epsilon))
    X_whitened = X_centered @ whitening_matrix
    whitened = X_whitened.reshape(H, W, C)
    params = {'mean': X_mean, 'whitening_matrix': whitening_matrix}
    return whitened, params

# ============================================================
# 3. Main Execution: Load, Process, and Visualize
# ============================================================

# Load the input and final geometry data
input_geometry = load_input_geometry("DM/data/Input_geometry")
final_geometry = load_final_geometry("DM/data")
# (Optional) Create ordered pairs if needed
ts80_ordered_pairs, ts140_ordered_pairs = create_ordered_pairs(input_geometry, final_geometry)

# --- Apply PCA Whitening to the Input Geometry (for demonstration) ---
# Here we vectorize all input geometry images (each run is an array of shape (3, 17, 12, 3))
# and apply PCA whitening on the concatenated data.
input_data = np.vstack([arr.reshape(3, -1) for arr in list(input_geometry.values())])
whitened_inputs, pca_input_params = pca_whitening(input_data)
print("Whitened inputs shape:", whitened_inputs.shape)
print("PCA mean shape:", pca_input_params['mean'].shape)
print("PCA whitening matrix shape:", pca_input_params['matrix'].shape)

# --- Apply PCA Whitening to the Final Geometry ---
# For each run and each output label, whiten each image.
for run in final_geometry:
    for key in final_geometry[run]:
        images = final_geometry[run][key]  # images shape: (n, 17, 12, 3)
        whitened_images = []
        pca_params_list = []
        for img in images:
            w_img, params = whiten_image(img)
            whitened_images.append(w_img)
            pca_params_list.append(params)
        # Replace the entry with a dict that contains the whitened images and the PCA parameters.
        final_geometry[run][key] = {
            "whitened": np.array(whitened_images),
            "pca_params": pca_params_list
        }

# ============================================================
# 4. t-SNE on Time-step 80
# ============================================================

data_vectors = []      # Flattened vectors for each image at time-step 80.
geometry_labels = []   # Run IDs (e.g., "run1", "run2", …)
temperature_labels = []# Temperature labels (e.g., "t1", "t2", …)
pressure_labels = []   # Pressure labels (e.g., "p1", "p2", …)

# Loop over every run and every final geometry label for time-step 80.
for run, run_dict in final_geometry.items():
    for label, content in run_dict.items():
        if label.startswith("80"):
            parts = label.split("_")
            if len(parts) == 3:
                timestep, temp, pressure = parts
            else:
                continue
            images = content["whitened"]  # shape: (n, 17, 12, 3)
            n_images = images.shape[0]
            for i in range(n_images):
                vec = images[i].reshape(-1)  # flatten image to a vector
                data_vectors.append(vec)
                geometry_labels.append(run)
                temperature_labels.append(temp)
                pressure_labels.append(pressure)

X = np.array(data_vectors)  # Shape: (n_samples, 17*12*3)
print("Shape of vectorized data (time-step 80):", X.shape)

# Run t-SNE on time-step 80 data.
tsne_model = TSNE(n_components=2, perplexity=30, random_state=42)
X_tsne = tsne_model.fit_transform(X)

# Prepare label mappings.
unique_runs = sorted(list(set(geometry_labels)))
unique_temps = sorted(list(set(temperature_labels)))
unique_pressures = sorted(list(set(pressure_labels)))
run_to_idx = {run: idx for idx, run in enumerate(unique_runs)}
temp_to_idx = {temp: idx for idx, temp in enumerate(unique_temps)}
press_to_idx = {press: idx for idx, press in enumerate(unique_pressures)}

# Plotting t-SNE results for time-step 80.
plt.figure(figsize=(18, 5))

# Plot 1: Colored by Geometry (Run)
plt.subplot(1, 3, 1)
colors = [run_to_idx[r] for r in geometry_labels]
sc1 = plt.scatter(X_tsne[:, 0], X_tsne[:, 1], c=colors, cmap='tab20')
plt.title("t-SNE (Time-step 80) - Geometry (Run)")
plt.xlabel("Component 1")
plt.ylabel("Component 2")
cbar1 = plt.colorbar(sc1, ticks=range(len(unique_runs)))
cbar1.set_label("Run Index")

# Plot 2: Colored by Temperature
plt.subplot(1, 3, 2)
colors = [temp_to_idx[t] for t in temperature_labels]
sc2 = plt.scatter(X_tsne[:, 0], X_tsne[:, 1], c=colors, cmap='viridis')
plt.title("t-SNE (Time-step 80) - Temperature")
plt.xlabel("Component 1")
plt.ylabel("Component 2")
cbar2 = plt.colorbar(sc2, ticks=range(len(unique_temps)))
cbar2.set_label("Temperature Index")

# Plot 3: Colored by Pressure
plt.subplot(1, 3, 3)
colors = [press_to_idx[p] for p in pressure_labels]
sc3 = plt.scatter(X_tsne[:, 0], X_tsne[:, 1], c=colors, cmap='plasma')
plt.title("t-SNE (Time-step 80) - Pressure")
plt.xlabel("Component 1")
plt.ylabel("Component 2")
cbar3 = plt.colorbar(sc3, ticks=range(len(unique_pressures)))
cbar3.set_label("Pressure Index")

plt.tight_layout()
plt.show()

print("Comments on t-SNE results for Time-step 80:")
print("1. Geometry (Run): Clusters indicate similar output geometries; distinct clusters suggest significant differences in input geometry.")
print("2. Temperature: Clustering by temperature suggests that temperature has a strong effect on the output geometry.")
print("3. Pressure: Clear separation based on pressure indicates a strong pressure influence, while overlaps suggest subtler effects.")

# ============================================================
# 5. t-SNE on Time-step 140
# ============================================================

data_vectors_140 = []      # Flattened vectors for each image at time-step 140.
geometry_labels_140 = []   # Run IDs.
temperature_labels_140 = []# Temperature labels.
pressure_labels_140 = []   # Pressure labels.

# Loop over every run and every final geometry label for time-step 140.
for run, run_dict in final_geometry.items():
    for label, content in run_dict.items():
        if label.startswith("140"):
            parts = label.split("_")
            if len(parts) == 3:
                timestep, temp, pressure = parts
            else:
                continue
            images = content["whitened"]
            n_images = images.shape[0]
            for i in range(n_images):
                vec = images[i].reshape(-1)
                data_vectors_140.append(vec)
                geometry_labels_140.append(run)
                temperature_labels_140.append(temp)
                pressure_labels_140.append(pressure)

X_140 = np.array(data_vectors_140)
print("Shape of vectorized data (time-step 140):", X_140.shape)

# Run t-SNE on time-step 140 data.
tsne_model_140 = TSNE(n_components=2, perplexity=30, random_state=42)
X_tsne_140 = tsne_model_140.fit_transform(X_140)

# Prepare label mappings.
unique_runs_140 = sorted(list(set(geometry_labels_140)))
unique_temps_140 = sorted(list(set(temperature_labels_140)))
unique_pressures_140 = sorted(list(set(pressure_labels_140)))
run_to_idx_140 = {run: idx for idx, run in enumerate(unique_runs_140)}
temp_to_idx_140 = {temp: idx for idx, temp in enumerate(unique_temps_140)}
press_to_idx_140 = {press: idx for idx, press in enumerate(unique_pressures_140)}

# Plotting t-SNE results for time-step 140.
plt.figure(figsize=(18, 5))

# Plot 1: Colored by Geometry (Run)
plt.subplot(1, 3, 1)
colors = [run_to_idx_140[r] for r in geometry_labels_140]
sc1 = plt.scatter(X_tsne_140[:, 0], X_tsne_140[:, 1], c=colors, cmap='tab20')
plt.title("t-SNE (Time-step 140) - Geometry (Run)")
plt.xlabel("Component 1")
plt.ylabel("Component 2")
cbar1 = plt.colorbar(sc1, ticks=range(len(unique_runs_140)))
cbar1.set_label("Run Index")

# Plot 2: Colored by Temperature (for time-step 140)
plt.subplot(1, 3, 2)
colors = [temp_to_idx_140[t] for t in temperature_labels_140]
sc2 = plt.scatter(X_tsne_140[:, 0], X_tsne_140[:, 1], c=colors, cmap='viridis')
plt.title("t-SNE (Time-step 140) - Colored by Temperature")
plt.xlabel("Component 1")
plt.ylabel("Component 2")
cbar2 = plt.colorbar(sc2, ticks=range(len(unique_temps_140)))
cbar2.set_label("Temperature Index")

# Plot 3: Colored by Pressure (for time-step 140)
plt.subplot(1, 3, 3)
colors = [press_to_idx_140[p] for p in pressure_labels_140]
sc3 = plt.scatter(X_tsne_140[:, 0], X_tsne_140[:, 1], c=colors, cmap='plasma')
plt.title("t-SNE (Time-step 140) - Colored by Pressure")
plt.xlabel("Component 1")
plt.ylabel("Component 2")
cbar3 = plt.colorbar(sc3, ticks=range(len(unique_pressures_140)))
cbar3.set_label("Pressure Index")

plt.tight_layout()
plt.show()

print("t-SNE Analysis for Time-step 140:")
print("1. Geometry (Run): Compared to time-step 80, the clustering based on geometry might be more pronounced or altered. For example, if the dynamics amplify differences over time, runs with distinct input geometries might form more separated clusters; alternatively, if transient effects dampen these differences, clusters might appear closer.")
print("2. Temperature: The influence of temperature may also change over time. Accumulated temperature effects might lead to more distinct clusters for different temperature settings at time-step 140 compared to time-step 80, or they might continue to overlap if the effect is subtle.")
print("3. Pressure: Similarly, if pressure has a strong impact over a longer time horizon, you may observe more clearly separated clusters for different pressure values at time-step 140, while a subtler influence would result in overlapping clusters.")